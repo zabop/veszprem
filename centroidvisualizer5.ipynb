{
 "cells": [
  {
   "cell_type": "code",
   "execution_count": 3,
   "metadata": {},
   "outputs": [],
   "source": [
    "import glob\n",
    "import matplotlib.pyplot as plt\n",
    "from lightkurve import KeplerTargetPixelFile\n",
    "from pyke import kepio, kepmsg, kepplot\n",
    "from copy import copy\n",
    "from lightkurve import KeplerTargetPixelFile\n",
    "import glob\n",
    "from copy import copy\n",
    "from pyke import kepio, kepmsg, kepplot\n",
    "import matplotlib.pyplot as plt\n",
    "import lightkurve\n",
    "import numpy as np\n",
    "import warnings\n",
    "from astropy.visualization import (PercentileInterval, ImageNormalize,\n",
    "                                   SqrtStretch, LinearStretch)\n",
    "from matplotlib.colors import LogNorm\n",
    "import sys\n",
    "from matplotlib import patches\n",
    "from astropy.visualization import ZScaleInterval\n",
    "import matplotlib.cm as cm\n"
   ]
  },
  {
   "cell_type": "code",
   "execution_count": 4,
   "metadata": {},
   "outputs": [],
   "source": [
    "tpffilelist=glob.glob('attilafiles/ktwo212789806*lpd-targ.fits')\n",
    "mfilelist=[each[:-5]+'.kepmask' for each in tpffilelist]"
   ]
  },
  {
   "cell_type": "code",
   "execution_count": 21,
   "metadata": {
    "scrolled": false
   },
   "outputs": [
    {
     "name": "stdout",
     "output_type": "stream",
     "text": [
      "##########################################################################################\n",
      "attilafiles/ktwo212789806-c06_lpd-targ.fits\n",
      "frame=1343\n",
      "Szélső érték\n"
     ]
    },
    {
     "name": "stderr",
     "output_type": "stream",
     "text": [
      "/home/pal/.local/lib/python3.6/site-packages/ipykernel_launcher.py:85: RuntimeWarning: invalid value encountered in log\n"
     ]
    },
    {
     "data": {
      "image/png": "[encoded data removed]",
      "text/plain": [
       "<Figure size 432x288 with 1 Axes>"
      ]
     },
     "metadata": {
      "needs_background": "light"
     },
     "output_type": "display_data"
    },
    {
     "name": "stdout",
     "output_type": "stream",
     "text": [
      "frame=3074\n",
      "Szélső érték\n"
     ]
    },
    {
     "name": "stderr",
     "output_type": "stream",
     "text": [
      "/home/pal/.local/lib/python3.6/site-packages/ipykernel_launcher.py:85: RuntimeWarning: invalid value encountered in log\n"
     ]
    },
    {
     "data": {
      "image/png": "[encoded data removed]",
      "text/plain": [
       "<Figure size 432x288 with 1 Axes>"
      ]
     },
     "metadata": {
      "needs_background": "light"
     },
     "output_type": "display_data"
    }
   ],
   "source": [
    "%matplotlib inline\n",
    "\n",
    "egyikszelso=1343\n",
    "masikszelso=3074\n",
    "\n",
    "ujszelsoerteklista=[egyikszelso, masikszelso]\n",
    "\n",
    "\n",
    "for i, eachtpf in enumerate(tpffilelist):\n",
    "    \n",
    "    if True:\n",
    "    #if i<1:\n",
    "    \n",
    "        print('##########################################################################################')\n",
    "        print(eachtpf)\n",
    "\n",
    "        \n",
    "        tpffile=eachtpf\n",
    "        maskfile=mfilelist[i]\n",
    "\n",
    "        logfile='thisislogfile'\n",
    "\n",
    "        kepid, channel, skygroup, module, output, quarter, season, \\\n",
    "        ra, dec, column, row, kepmag, xdim, ydim, pixels = \\\n",
    "        kepio.readTPF(tpffile, 'FLUX', logfile, verbose=True)\n",
    "\n",
    "        ymin = copy(row)\n",
    "        ymax = ymin + ydim\n",
    "        xmin = copy(column)\n",
    "        xmax = xmin + xdim\n",
    "\n",
    "        lines = kepio.openascii(maskfile, 'r', None, False)\n",
    "        for line in lines:\n",
    "            mask = []\n",
    "            work = line.strip().split('|')\n",
    "            y0 = int(work[3])\n",
    "            x0 = int(work[4])\n",
    "            work = work[5].split(';')\n",
    "            for i in range(len(work)):\n",
    "                n = int(work[i].split(',')[0]) + y0\n",
    "                m = int(work[i].split(',')[1]) + x0\n",
    "                mask.append(str(m) + ',' + str(n))\n",
    "\n",
    "        xcords=[int(each.split(',')[0]) for each in mask]\n",
    "        ycords=[int(each.split(',')[1]) for each in mask]\n",
    "\n",
    "        newy=[each-ymin for each in ycords]\n",
    "        newx=[each-xmin for each in xcords]\n",
    "\n",
    "        tpf=lightkurve.targetpixelfile.KeplerTargetPixelFile(tpffile)\n",
    "\n",
    "        inrangeindices=[]\n",
    "        for ithcord, xcord in enumerate(xcords):\n",
    "            if xcord>xmin and xcord<xmax:\n",
    "                if ycords[ithcord]>ymin and ycords[ithcord]<ymax:\n",
    "                    inrangeindices.append(ithcord)\n",
    "\n",
    "        newxcords=np.asarray(xcords)[inrangeindices]\n",
    "        newycords=np.asarray(ycords)[inrangeindices]\n",
    "\n",
    "        newxcords=[each-xmin for each in newxcords]\n",
    "        newycords=[each-ymin for each in newycords]            \n",
    "\n",
    "        grid=np.zeros(tpf.flux[0].shape,dtype=int)\n",
    "\n",
    "        for index, each in enumerate(newxcords):\n",
    "            grid[newycords[index]][each]=1\n",
    "\n",
    "\n",
    "\n",
    "        for eachframe in ujszelsoerteklista:\n",
    "\n",
    "            print('frame='+str(eachframe))\n",
    "            if eachframe==2074:\n",
    "                print('Középső érték')\n",
    "            else:\n",
    "                print('Szélső érték')\n",
    "            \n",
    "            interval=ZScaleInterval()\n",
    "            interval=interval.get_limits(tpf.flux[eachframe])\n",
    "            \n",
    "            plt.figure()\n",
    "            #plt.pcolormesh(tpf.flux[eachframe],vmin=interval[0],vmax=interval[1], cmap=cm.gray_r)\n",
    "            #plt.pcolormesh(np.log(tpf.flux[eachframe]-np.min(tpf.flux[eachframe])+1),vmin=0,vmax=np.log(1000), cmap=cm.binary)\n",
    "            plt.imshow(np.log(tpf.flux[eachframe]),vmin=0,vmax=np.log(1000), cmap=cm.binary, origin='lower')\n",
    "            #plt.pcolormesh(np.log(tpf.flux[eachframe]), cmap=cm.binary)\n",
    "            ax=plt.gca()\n",
    "            ax.set_aspect('equal')\n",
    "            aperture_mask=grid\n",
    "            mask_color='green'\n",
    "            for i in range(tpf.shape[1]):\n",
    "                for j in range(tpf.shape[2]):\n",
    "                    if aperture_mask[i, j]:\n",
    "                        ax.add_patch(patches.Rectangle((j-0.5, i-0.5),\n",
    "                                                           1, 1, color=mask_color, fill=True,\n",
    "                                                           alpha=.40))  \n",
    "\n",
    "            plt.scatter([each-xmin-0.5 for each in tpf.estimate_centroids()[0]],[each-ymin-0.5 for each in tpf.estimate_centroids()[1]],s=10,c='magenta',zorder=10)\n",
    "            \n",
    "            ax=plt.gca()\n",
    "            \n",
    "            ax.set_xticklabels([each for each in range(xmin,xmin+tpf.shape[2]+1)])\n",
    "            ax.set_yticklabels([each for each in range(ymin,ymin+tpf.shape[1]+1)])\n",
    "            \n",
    "            \n",
    "            plt.show()\n",
    "\n"
   ]
  },
  {
   "cell_type": "code",
   "execution_count": 23,
   "metadata": {},
   "outputs": [
    {
     "name": "stdout",
     "output_type": "stream",
     "text": [
      "##########################################################################################\n",
      "attilafiles/ktwo212789806-c06_lpd-targ.fits\n",
      "frame=1343\n",
      "Szélső érték\n"
     ]
    },
    {
     "name": "stderr",
     "output_type": "stream",
     "text": [
      "/home/pal/.local/lib/python3.6/site-packages/ipykernel_launcher.py:85: RuntimeWarning: invalid value encountered in log\n"
     ]
    },
    {
     "data": {
      "image/png": "[encoded data removed]",
      "text/plain": [
       "<Figure size 432x288 with 1 Axes>"
      ]
     },
     "metadata": {
      "needs_background": "light"
     },
     "output_type": "display_data"
    },
    {
     "name": "stdout",
     "output_type": "stream",
     "text": [
      "frame=3074\n",
      "Szélső érték\n"
     ]
    },
    {
     "name": "stderr",
     "output_type": "stream",
     "text": [
      "/home/pal/.local/lib/python3.6/site-packages/ipykernel_launcher.py:85: RuntimeWarning: invalid value encountered in log\n"
     ]
    },
    {
     "data": {
      "image/png": "[encoded data removed]",
      "text/plain": [
       "<Figure size 432x288 with 1 Axes>"
      ]
     },
     "metadata": {
      "needs_background": "light"
     },
     "output_type": "display_data"
    }
   ],
   "source": [
    "%matplotlib inline\n",
    "\n",
    "egyikszelso=1343\n",
    "masikszelso=3074\n",
    "\n",
    "ujszelsoerteklista=[egyikszelso, masikszelso]\n",
    "\n",
    "\n",
    "for i, eachtpf in enumerate(tpffilelist):\n",
    "    \n",
    "    if True:\n",
    "    #if i<1:\n",
    "    \n",
    "        print('##########################################################################################')\n",
    "        print(eachtpf)\n",
    "\n",
    "        \n",
    "        tpffile=eachtpf\n",
    "        maskfile=mfilelist[i]\n",
    "\n",
    "        logfile='thisislogfile'\n",
    "\n",
    "        kepid, channel, skygroup, module, output, quarter, season, \\\n",
    "        ra, dec, column, row, kepmag, xdim, ydim, pixels = \\\n",
    "        kepio.readTPF(tpffile, 'FLUX', logfile, verbose=True)\n",
    "\n",
    "        ymin = copy(row)\n",
    "        ymax = ymin + ydim\n",
    "        xmin = copy(column)\n",
    "        xmax = xmin + xdim\n",
    "\n",
    "        lines = kepio.openascii(maskfile, 'r', None, False)\n",
    "        for line in lines:\n",
    "            mask = []\n",
    "            work = line.strip().split('|')\n",
    "            y0 = int(work[3])\n",
    "            x0 = int(work[4])\n",
    "            work = work[5].split(';')\n",
    "            for i in range(len(work)):\n",
    "                n = int(work[i].split(',')[0]) + y0\n",
    "                m = int(work[i].split(',')[1]) + x0\n",
    "                mask.append(str(m) + ',' + str(n))\n",
    "\n",
    "        xcords=[int(each.split(',')[0]) for each in mask]\n",
    "        ycords=[int(each.split(',')[1]) for each in mask]\n",
    "\n",
    "        newy=[each-ymin for each in ycords]\n",
    "        newx=[each-xmin for each in xcords]\n",
    "\n",
    "        tpf=lightkurve.targetpixelfile.KeplerTargetPixelFile(tpffile)\n",
    "\n",
    "        inrangeindices=[]\n",
    "        for ithcord, xcord in enumerate(xcords):\n",
    "            if xcord>xmin and xcord<xmax:\n",
    "                if ycords[ithcord]>ymin and ycords[ithcord]<ymax:\n",
    "                    inrangeindices.append(ithcord)\n",
    "\n",
    "        newxcords=np.asarray(xcords)[inrangeindices]\n",
    "        newycords=np.asarray(ycords)[inrangeindices]\n",
    "\n",
    "        newxcords=[each-xmin for each in newxcords]\n",
    "        newycords=[each-ymin for each in newycords]            \n",
    "\n",
    "        grid=np.zeros(tpf.flux[0].shape,dtype=int)\n",
    "\n",
    "        for index, each in enumerate(newxcords):\n",
    "            grid[newycords[index]][each]=1\n",
    "\n",
    "\n",
    "\n",
    "        for eachframe in ujszelsoerteklista:\n",
    "\n",
    "            print('frame='+str(eachframe))\n",
    "            if eachframe==2074:\n",
    "                print('Középső érték')\n",
    "            else:\n",
    "                print('Szélső érték')\n",
    "            \n",
    "            interval=ZScaleInterval()\n",
    "            interval=interval.get_limits(tpf.flux[eachframe])\n",
    "            \n",
    "            plt.figure()\n",
    "            #plt.pcolormesh(tpf.flux[eachframe],vmin=interval[0],vmax=interval[1], cmap=cm.gray_r)\n",
    "            #plt.pcolormesh(np.log(tpf.flux[eachframe]-np.min(tpf.flux[eachframe])+1),vmin=0,vmax=np.log(1000), cmap=cm.binary)\n",
    "            plt.pcolormesh(np.log(tpf.flux[eachframe]),vmin=0,vmax=np.log(1000), cmap=cm.binary)\n",
    "            #plt.pcolormesh(np.log(tpf.flux[eachframe]), cmap=cm.binary)\n",
    "            ax=plt.gca()\n",
    "            ax.set_aspect('equal')\n",
    "            aperture_mask=grid\n",
    "            mask_color='green'\n",
    "            for i in range(tpf.shape[1]):\n",
    "                for j in range(tpf.shape[2]):\n",
    "                    if aperture_mask[i, j]:\n",
    "                        ax.add_patch(patches.Rectangle((j, i),\n",
    "                                                           1, 1, color=mask_color, fill=True,\n",
    "                                                           alpha=.40))  \n",
    "\n",
    "            plt.scatter([each-xmin for each in tpf.estimate_centroids()[0]],[each-ymin for each in tpf.estimate_centroids()[1]],s=10,c='magenta',zorder=10)\n",
    "            \n",
    "            ax=plt.gca()\n",
    "            \n",
    "            ax.set_xticklabels([each for each in range(xmin,xmin+tpf.shape[2]+1)])\n",
    "            ax.set_yticklabels([each for each in range(ymin,ymin+tpf.shape[1]+1)])\n",
    "            \n",
    "            \n",
    "            plt.show()\n",
    "\n"
   ]
  },
  {
   "cell_type": "code",
   "execution_count": null,
   "metadata": {},
   "outputs": [],
   "source": []
  },
  {
   "cell_type": "code",
   "execution_count": null,
   "metadata": {},
   "outputs": [],
   "source": []
  },
  {
   "cell_type": "code",
   "execution_count": null,
   "metadata": {},
   "outputs": [],
   "source": []
  },
  {
   "cell_type": "code",
   "execution_count": null,
   "metadata": {},
   "outputs": [],
   "source": []
  }
 ],
 "metadata": {
  "kernelspec": {
   "display_name": "Python 3",
   "language": "python",
   "name": "python3"
  },
  "language_info": {
   "codemirror_mode": {
    "name": "ipython",
    "version": 3
   },
   "file_extension": ".py",
   "mimetype": "text/x-python",
   "name": "python",
   "nbconvert_exporter": "python",
   "pygments_lexer": "ipython3",
   "version": "3.6.7"
  }
 },
 "nbformat": 4,
 "nbformat_minor": 2
}
